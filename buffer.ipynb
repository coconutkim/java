{
 "cells": [
  {
   "cell_type": "code",
   "execution_count": 3,
   "metadata": {},
   "outputs": [
    {
     "name": "stdout",
     "output_type": "stream",
     "text": [
      "버퍼를 사용한 복사 시간: -1729762559264147200.0000 ns\n",
      "버퍼를 사용하지 않은 복사 시간: -1729762559266096640.0000 ns\n"
     ]
    }
   ],
   "source": [
    "# 사진 복사 붙여넣기\n",
    "\n",
    "import shutil\n",
    "import time\n",
    "\n",
    "# 버퍼를 사용한 파일 복사\n",
    "def copy_image_with_buffer(source_path, destination_path, buffer_size=8192):\n",
    "    \n",
    "    # file: FileDescriptorOrPath,\n",
    "    # mode: OpenBinaryMode,\n",
    "    # buffering: int = -1,\n",
    "    \n",
    "    with open(source_path, 'rb', buffering=8192) as src_file:  # 소스 파일을 읽기 모드로 열기\n",
    "        # rb: read binary / 파일을 이진 모드로 읽는다\n",
    "        with open(destination_path, 'wb', buffering=8192) as dst_file:  # 대상 파일을 쓰기 모드로 열기\n",
    "            # wb: write binary / 이진 데이터를 파일에 쓸 때 사용한다\n",
    "            shutil.copyfileobj(src_file, dst_file)  # 파일 내용 복사\n",
    "\n",
    "# 버퍼를 사용하지 않은 파일 복사            \n",
    "def copy_image_without_buffer(source_path, destination_path):\n",
    "    with open(source_path, 'rb') as src_file:\n",
    "        with open(destination_path, 'wb') as dst_file:\n",
    "            dst_file.write(src_file.read())\n",
    "\n",
    "# 파일 경로 설정\n",
    "source_image = r'C:\\intellij\\tiger_ori.jpg'  # 원본 이미지 파일 경로\n",
    "destination_image_with_buffer = r'C:\\intellij\\copied_image_with_buffer.jpg'  # 버퍼 사용 시 복사할 이미지 파일 경로\n",
    "destination_image_without_buffer = r'C:\\intellij\\copied_image_without_buffer.jpg'  # 버퍼 미사용 시 복사할 이미지 파일 경로\n",
    "\n",
    "# 버퍼를 사용한 복사 시간 측정\n",
    "start_time = time.time_ns()\n",
    "copy_image_with_buffer(source_image, destination_image_with_buffer)\n",
    "buffer_copy_time = time.time() - start_time\n",
    "print(f\"버퍼를 사용한 복사 시간: {buffer_copy_time:.4f} ns\")\n",
    "\n",
    "# 버퍼를 사용하지 않은 복사 시간 측정\n",
    "start_time = time.time_ns()\n",
    "copy_image_without_buffer(source_image, destination_image_without_buffer)\n",
    "no_buffer_copy_time = time.time() - start_time\n",
    "print(f\"버퍼를 사용하지 않은 복사 시간: {no_buffer_copy_time:.4f} ns\")\n"
   ]
  }
 ],
 "metadata": {
  "kernelspec": {
   "display_name": "mldltest1",
   "language": "python",
   "name": "python3"
  },
  "language_info": {
   "codemirror_mode": {
    "name": "ipython",
    "version": 3
   },
   "file_extension": ".py",
   "mimetype": "text/x-python",
   "name": "python",
   "nbconvert_exporter": "python",
   "pygments_lexer": "ipython3",
   "version": "3.8.19"
  }
 },
 "nbformat": 4,
 "nbformat_minor": 2
}
